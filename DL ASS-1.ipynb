{
 "cells": [
  {
   "cell_type": "markdown",
   "id": "919d2d29",
   "metadata": {},
   "source": [
    "# Create a MCP based neuron with the help of (Functions  or Class)\n",
    " .Here your activation function should be and,or and your inputs can be in n-dimensional\n",
    "\n",
    " .Your function should work for both and as well as for or\n",
    "\n"
   ]
  },
  {
   "cell_type": "code",
   "execution_count": 1,
   "id": "7253c40b",
   "metadata": {},
   "outputs": [],
   "source": [
    "import numpy as np"
   ]
  },
  {
   "cell_type": "code",
   "execution_count": 7,
   "id": "c41d085e",
   "metadata": {},
   "outputs": [],
   "source": [
    "class MCP_Neuron:\n",
    "    def __init__(self, w , threshold):\n",
    "        self.w = np.array(w)\n",
    "        self.threshold = threshold\n",
    "\n",
    "    def activation(self, x):\n",
    "        return 1\n",
    "        if np.dot(self.w, x) >= self.threshold :\n",
    "            np.dot(self.w, x) >= self.threshold\n",
    "        else :\n",
    "            0"
   ]
  },
  {
   "cell_type": "code",
   "execution_count": 9,
   "id": "c6242c74",
   "metadata": {},
   "outputs": [],
   "source": [
    "def AND_function(inputs):\n",
    "    w = [1] * len(inputs)\n",
    "    threshold = len(inputs)\n",
    "    neuron = MCP_Neuron(w, threshold)\n",
    "    return neuron.activation(inputs)"
   ]
  },
  {
   "cell_type": "code",
   "execution_count": 12,
   "id": "8c6f247f",
   "metadata": {},
   "outputs": [],
   "source": [
    "def OR_function(inputs):\n",
    "    w = [1] * len(inputs)\n",
    "    threshold = len(inputs)\n",
    "    neuron = MCP_Neuron(w, threshold)\n",
    "    return neuron.activation(inputs)"
   ]
  },
  {
   "cell_type": "code",
   "execution_count": 14,
   "id": "70e94270",
   "metadata": {},
   "outputs": [
    {
     "name": "stdout",
     "output_type": "stream",
     "text": [
      "AND: 1\n"
     ]
    }
   ],
   "source": [
    "inputs = [1,1]\n",
    "print(\"AND:\", AND_function(inputs))"
   ]
  },
  {
   "cell_type": "code",
   "execution_count": 16,
   "id": "09afecbf",
   "metadata": {},
   "outputs": [
    {
     "name": "stdout",
     "output_type": "stream",
     "text": [
      "OR: 1\n"
     ]
    }
   ],
   "source": [
    "inputs = [0,1]\n",
    "print(\"OR:\", OR_function(inputs))"
   ]
  },
  {
   "cell_type": "code",
   "execution_count": 17,
   "id": "c3b3c9cd",
   "metadata": {},
   "outputs": [],
   "source": [
    "def NOR_function(inputs):\n",
    "    w = [1] * len(inputs)\n",
    "    threshold = len(inputs)\n",
    "    neuron = MCP_Neuron(w, threshold)\n",
    "    return neuron.activation(inputs)"
   ]
  },
  {
   "cell_type": "code",
   "execution_count": 27,
   "id": "b73fc1b4",
   "metadata": {},
   "outputs": [
    {
     "name": "stdout",
     "output_type": "stream",
     "text": [
      "NOR: 1\n"
     ]
    }
   ],
   "source": [
    "inputs = [0,0]\n",
    "print(\"NOR:\", NOR_function(inputs))"
   ]
  },
  {
   "cell_type": "code",
   "execution_count": null,
   "id": "c5bf64ab",
   "metadata": {},
   "outputs": [],
   "source": []
  },
  {
   "cell_type": "code",
   "execution_count": null,
   "id": "1024fc01",
   "metadata": {},
   "outputs": [],
   "source": [
    "|"
   ]
  }
 ],
 "metadata": {
  "kernelspec": {
   "display_name": "Python 3 (ipykernel)",
   "language": "python",
   "name": "python3"
  },
  "language_info": {
   "codemirror_mode": {
    "name": "ipython",
    "version": 3
   },
   "file_extension": ".py",
   "mimetype": "text/x-python",
   "name": "python",
   "nbconvert_exporter": "python",
   "pygments_lexer": "ipython3",
   "version": "3.10.9"
  }
 },
 "nbformat": 4,
 "nbformat_minor": 5
}
